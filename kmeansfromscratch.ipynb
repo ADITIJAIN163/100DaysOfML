{
 "cells": [
  {
   "cell_type": "code",
   "execution_count": 1,
   "id": "c6d5dbd8",
   "metadata": {},
   "outputs": [],
   "source": [
    "import numpy as np\n",
    "import random"
   ]
  },
  {
   "cell_type": "code",
   "execution_count": 2,
   "id": "1ff5557d",
   "metadata": {},
   "outputs": [],
   "source": [
    "class KMeans:\n",
    "    def __init__(self,n_clusters=2,max_iter=100):\n",
    "        self.n_clusters = n_clusters\n",
    "        self.max_iter = max_iter\n",
    "        self.centroids = None\n",
    "\n",
    "    def fit_predict(self,X):\n",
    "\n",
    "        random_index = random.sample(range(0,X.shape[0]),self.n_clusters)\n",
    "        self.centroids = X[random_index]\n",
    "\n",
    "        for i in range(self.max_iter):\n",
    "            # assign clusters\n",
    "            cluster_group = self.assign_clusters(X)\n",
    "            old_centroids = self.centroids\n",
    "            # move centroids\n",
    "            self.centroids = self.move_centroids(X,cluster_group)\n",
    "            # check finish\n",
    "            if (old_centroids == self.centroids).all():\n",
    "                break\n",
    "\n",
    "        return cluster_group\n",
    "\n",
    "    def assign_clusters(self,X):\n",
    "        cluster_group = []\n",
    "        distances = []\n",
    "\n",
    "        for row in X:\n",
    "            for centroid in self.centroids:\n",
    "                distances.append(np.sqrt(np.dot(row-centroid,row-centroid)))\n",
    "            min_distance = min(distances)\n",
    "            index_pos = distances.index(min_distance)\n",
    "            cluster_group.append(index_pos)\n",
    "            distances.clear()\n",
    "\n",
    "        return np.array(cluster_group)\n",
    "\n",
    "    def move_centroids(self,X,cluster_group):\n",
    "        new_centroids = []\n",
    "\n",
    "        cluster_type = np.unique(cluster_group)\n",
    "\n",
    "        for type in cluster_type:\n",
    "            new_centroids.append(X[cluster_group == type].mean(axis=0))\n",
    "\n",
    "        return np.array(new_centroids)\n"
   ]
  },
  {
   "cell_type": "code",
   "execution_count": 4,
   "id": "beee87f8",
   "metadata": {},
   "outputs": [],
   "source": [
    "from sklearn.datasets import make_blobs\n",
    "import matplotlib.pyplot as plt\n",
    "import pandas as pd\n",
    "\n",
    "#centroids = [(-5,-5),(5,5),(-2.5,2.5),(2.5,-2.5)]\n",
    "#cluster_std = [1,1,1,1]\n",
    "\n",
    "#X,y = make_blobs(n_samples=100,cluster_std=cluster_std,centers=centroids,n_features=2,random_state=2)\n",
    "\n",
    "#plt.scatter(X[:,0],X[:,1])\n",
    "\n",
    "df = pd.read_csv('student_clustering.csv')\n",
    "\n",
    "X = df.iloc[:,:].values\n",
    "\n",
    "km = KMeans(n_clusters=4,max_iter=500)\n",
    "y_means = km.fit_predict(X)\n"
   ]
  },
  {
   "cell_type": "code",
   "execution_count": 5,
   "id": "dab37d4d",
   "metadata": {},
   "outputs": [
    {
     "data": {
      "text/plain": [
       "array([3, 0, 1, 1, 0, 0, 1, 2, 0, 1, 3, 0, 1, 3, 0, 1, 0, 1, 0, 0, 1, 3,\n",
       "       1, 3, 3, 1, 3, 2, 1, 0, 2, 0, 2, 0, 1, 1, 2, 0, 3, 0, 3, 1, 1, 3,\n",
       "       2, 2, 1, 0, 2, 0, 3, 3, 2, 1, 2, 0, 0, 2, 0, 2, 0, 1, 1, 2, 3, 2,\n",
       "       1, 3, 0, 1, 0, 2, 1, 3, 0, 2, 0, 2, 3, 1, 1, 2, 0, 3, 2, 3, 2, 0,\n",
       "       2, 0, 2, 2, 1, 3, 1, 1, 2, 1, 3, 2, 0, 3, 3, 2, 3, 3, 1, 3, 2, 2,\n",
       "       1, 2, 0, 0, 1, 2, 1, 0, 2, 3, 3, 0, 1, 2, 1, 3, 1, 0, 3, 1, 1, 0,\n",
       "       3, 3, 0, 2, 0, 3, 1, 1, 1, 3, 0, 3, 3, 2, 3, 2, 0, 3, 2, 3, 2, 2,\n",
       "       3, 1, 0, 2, 0, 1, 3, 2, 0, 1, 2, 3, 0, 3, 3, 2, 2, 0, 2, 3, 3, 1,\n",
       "       2, 0, 3, 2, 2, 0, 0, 0, 1, 3, 1, 1, 2, 0, 1, 1, 3, 3, 1, 3, 2, 0,\n",
       "       0, 2])"
      ]
     },
     "execution_count": 5,
     "metadata": {},
     "output_type": "execute_result"
    }
   ],
   "source": [
    "y_means"
   ]
  },
  {
   "cell_type": "code",
   "execution_count": null,
   "id": "752cb1e1",
   "metadata": {},
   "outputs": [],
   "source": []
  }
 ],
 "metadata": {
  "kernelspec": {
   "display_name": "Python 3 (ipykernel)",
   "language": "python",
   "name": "python3"
  },
  "language_info": {
   "codemirror_mode": {
    "name": "ipython",
    "version": 3
   },
   "file_extension": ".py",
   "mimetype": "text/x-python",
   "name": "python",
   "nbconvert_exporter": "python",
   "pygments_lexer": "ipython3",
   "version": "3.9.13"
  }
 },
 "nbformat": 4,
 "nbformat_minor": 5
}
