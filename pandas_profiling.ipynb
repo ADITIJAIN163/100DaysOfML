{
 "cells": [
  {
   "cell_type": "code",
   "execution_count": 1,
   "id": "c45f31a9",
   "metadata": {},
   "outputs": [
    {
     "name": "stdout",
     "output_type": "stream",
     "text": [
      "Collecting pandas-profiling\n",
      "  Using cached pandas_profiling-3.6.6-py2.py3-none-any.whl (324 kB)\n",
      "Collecting ydata-profiling\n",
      "  Using cached ydata_profiling-4.12.1-py2.py3-none-any.whl (390 kB)\n",
      "Collecting visions[type_image_path]<0.7.7,>=0.7.5\n",
      "  Using cached visions-0.7.6-py3-none-any.whl (104 kB)\n",
      "Requirement already satisfied: multimethod<2,>=1.4 in c:\\users\\aditi.vjain\\anaconda3\\lib\\site-packages (from ydata-profiling->pandas-profiling) (1.11)\n",
      "Requirement already satisfied: numpy<2.2,>=1.16.0 in c:\\users\\aditi.vjain\\anaconda3\\lib\\site-packages (from ydata-profiling->pandas-profiling) (1.24.3)\n",
      "Requirement already satisfied: jinja2<3.2,>=2.11.1 in c:\\users\\aditi.vjain\\anaconda3\\lib\\site-packages (from ydata-profiling->pandas-profiling) (2.11.3)\n",
      "Collecting typeguard<5,>=3\n",
      "  Using cached typeguard-4.4.1-py3-none-any.whl (35 kB)\n",
      "Requirement already satisfied: htmlmin==0.1.12 in c:\\users\\aditi.vjain\\anaconda3\\lib\\site-packages (from ydata-profiling->pandas-profiling) (0.1.12)\n",
      "Collecting imagehash==4.3.1\n",
      "  Using cached ImageHash-4.3.1-py2.py3-none-any.whl (296 kB)\n",
      "Requirement already satisfied: scipy<1.14,>=1.4.1 in c:\\users\\aditi.vjain\\anaconda3\\lib\\site-packages (from ydata-profiling->pandas-profiling) (1.9.1)\n",
      "Requirement already satisfied: PyYAML<6.1,>=5.0.0 in c:\\users\\aditi.vjain\\anaconda3\\lib\\site-packages (from ydata-profiling->pandas-profiling) (6.0)\n",
      "Collecting wordcloud>=1.9.3\n",
      "  Using cached wordcloud-1.9.4-cp39-cp39-win_amd64.whl (300 kB)\n",
      "Requirement already satisfied: pydantic>=2 in c:\\users\\aditi.vjain\\anaconda3\\lib\\site-packages (from ydata-profiling->pandas-profiling) (2.6.2)\n",
      "Requirement already satisfied: matplotlib<3.10,>=3.5 in c:\\users\\aditi.vjain\\anaconda3\\lib\\site-packages (from ydata-profiling->pandas-profiling) (3.5.2)\n",
      "Requirement already satisfied: requests<3,>=2.24.0 in c:\\users\\aditi.vjain\\anaconda3\\lib\\site-packages (from ydata-profiling->pandas-profiling) (2.28.1)\n",
      "Requirement already satisfied: seaborn<0.14,>=0.10.1 in c:\\users\\aditi.vjain\\anaconda3\\lib\\site-packages (from ydata-profiling->pandas-profiling) (0.11.2)\n",
      "Collecting dacite>=1.8\n",
      "  Using cached dacite-1.8.1-py3-none-any.whl (14 kB)\n",
      "Requirement already satisfied: pandas!=1.4.0,<3,>1.1 in c:\\users\\aditi.vjain\\anaconda3\\lib\\site-packages (from ydata-profiling->pandas-profiling) (1.4.4)\n",
      "Collecting numba<1,>=0.56.0\n",
      "  Using cached numba-0.60.0-cp39-cp39-win_amd64.whl (2.7 MB)\n",
      "Requirement already satisfied: tqdm<5,>=4.48.2 in c:\\users\\aditi.vjain\\anaconda3\\lib\\site-packages (from ydata-profiling->pandas-profiling) (4.64.1)\n",
      "Requirement already satisfied: statsmodels<1,>=0.13.2 in c:\\users\\aditi.vjain\\anaconda3\\lib\\site-packages (from ydata-profiling->pandas-profiling) (0.13.2)\n",
      "Collecting phik<0.13,>=0.11.1\n",
      "  Using cached phik-0.12.4-cp39-cp39-win_amd64.whl (666 kB)\n",
      "Requirement already satisfied: pillow in c:\\users\\aditi.vjain\\anaconda3\\lib\\site-packages (from imagehash==4.3.1->ydata-profiling->pandas-profiling) (9.2.0)\n",
      "Requirement already satisfied: PyWavelets in c:\\users\\aditi.vjain\\anaconda3\\lib\\site-packages (from imagehash==4.3.1->ydata-profiling->pandas-profiling) (1.3.0)\n",
      "Requirement already satisfied: MarkupSafe>=0.23 in c:\\users\\aditi.vjain\\anaconda3\\lib\\site-packages (from jinja2<3.2,>=2.11.1->ydata-profiling->pandas-profiling) (2.0.1)\n",
      "Requirement already satisfied: cycler>=0.10 in c:\\users\\aditi.vjain\\anaconda3\\lib\\site-packages (from matplotlib<3.10,>=3.5->ydata-profiling->pandas-profiling) (0.11.0)\n",
      "Requirement already satisfied: python-dateutil>=2.7 in c:\\users\\aditi.vjain\\anaconda3\\lib\\site-packages (from matplotlib<3.10,>=3.5->ydata-profiling->pandas-profiling) (2.8.2)\n",
      "Requirement already satisfied: pyparsing>=2.2.1 in c:\\users\\aditi.vjain\\anaconda3\\lib\\site-packages (from matplotlib<3.10,>=3.5->ydata-profiling->pandas-profiling) (3.0.9)\n",
      "Requirement already satisfied: fonttools>=4.22.0 in c:\\users\\aditi.vjain\\anaconda3\\lib\\site-packages (from matplotlib<3.10,>=3.5->ydata-profiling->pandas-profiling) (4.25.0)\n",
      "Requirement already satisfied: packaging>=20.0 in c:\\users\\aditi.vjain\\anaconda3\\lib\\site-packages (from matplotlib<3.10,>=3.5->ydata-profiling->pandas-profiling) (23.2)\n",
      "Requirement already satisfied: kiwisolver>=1.0.1 in c:\\users\\aditi.vjain\\anaconda3\\lib\\site-packages (from matplotlib<3.10,>=3.5->ydata-profiling->pandas-profiling) (1.4.2)\n",
      "Collecting llvmlite<0.44,>=0.43.0dev0\n",
      "  Using cached llvmlite-0.43.0-cp39-cp39-win_amd64.whl (28.1 MB)\n",
      "Requirement already satisfied: pytz>=2020.1 in c:\\users\\aditi.vjain\\anaconda3\\lib\\site-packages (from pandas!=1.4.0,<3,>1.1->ydata-profiling->pandas-profiling) (2022.1)\n",
      "Requirement already satisfied: joblib>=0.14.1 in c:\\users\\aditi.vjain\\anaconda3\\lib\\site-packages (from phik<0.13,>=0.11.1->ydata-profiling->pandas-profiling) (1.2.0)\n",
      "Requirement already satisfied: typing-extensions>=4.6.1 in c:\\users\\aditi.vjain\\anaconda3\\lib\\site-packages (from pydantic>=2->ydata-profiling->pandas-profiling) (4.12.2)\n",
      "Requirement already satisfied: annotated-types>=0.4.0 in c:\\users\\aditi.vjain\\anaconda3\\lib\\site-packages (from pydantic>=2->ydata-profiling->pandas-profiling) (0.6.0)\n",
      "Requirement already satisfied: pydantic-core==2.16.3 in c:\\users\\aditi.vjain\\anaconda3\\lib\\site-packages (from pydantic>=2->ydata-profiling->pandas-profiling) (2.16.3)\n",
      "Requirement already satisfied: charset-normalizer<3,>=2 in c:\\users\\aditi.vjain\\anaconda3\\lib\\site-packages (from requests<3,>=2.24.0->ydata-profiling->pandas-profiling) (2.1.1)\n",
      "Requirement already satisfied: urllib3<1.27,>=1.21.1 in c:\\users\\aditi.vjain\\anaconda3\\lib\\site-packages (from requests<3,>=2.24.0->ydata-profiling->pandas-profiling) (1.26.19)\n",
      "Requirement already satisfied: idna<4,>=2.5 in c:\\users\\aditi.vjain\\anaconda3\\lib\\site-packages (from requests<3,>=2.24.0->ydata-profiling->pandas-profiling) (3.3)\n",
      "Requirement already satisfied: certifi>=2017.4.17 in c:\\users\\aditi.vjain\\anaconda3\\lib\\site-packages (from requests<3,>=2.24.0->ydata-profiling->pandas-profiling) (2024.7.4)\n",
      "Requirement already satisfied: patsy>=0.5.2 in c:\\users\\aditi.vjain\\anaconda3\\lib\\site-packages (from statsmodels<1,>=0.13.2->ydata-profiling->pandas-profiling) (0.5.2)\n",
      "Requirement already satisfied: colorama in c:\\users\\aditi.vjain\\anaconda3\\lib\\site-packages (from tqdm<5,>=4.48.2->ydata-profiling->pandas-profiling) (0.4.5)\n",
      "Requirement already satisfied: importlib-metadata>=3.6 in c:\\users\\aditi.vjain\\anaconda3\\lib\\site-packages (from typeguard<5,>=3->ydata-profiling->pandas-profiling) (4.11.3)\n",
      "Collecting pandas!=1.4.0,<3,>1.1\n",
      "  Using cached pandas-2.2.3-cp39-cp39-win_amd64.whl (11.6 MB)\n",
      "Requirement already satisfied: attrs>=19.3.0 in c:\\users\\aditi.vjain\\anaconda3\\lib\\site-packages (from visions[type_image_path]<0.7.7,>=0.7.5->ydata-profiling->pandas-profiling) (21.4.0)\n",
      "Requirement already satisfied: networkx>=2.4 in c:\\users\\aditi.vjain\\anaconda3\\lib\\site-packages (from visions[type_image_path]<0.7.7,>=0.7.5->ydata-profiling->pandas-profiling) (2.8.4)\n",
      "Requirement already satisfied: tzdata>=2022.7 in c:\\users\\aditi.vjain\\anaconda3\\lib\\site-packages (from pandas!=1.4.0,<3,>1.1->ydata-profiling->pandas-profiling) (2024.1)\n",
      "Requirement already satisfied: zipp>=0.5 in c:\\users\\aditi.vjain\\anaconda3\\lib\\site-packages (from importlib-metadata>=3.6->typeguard<5,>=3->ydata-profiling->pandas-profiling) (3.8.0)\n",
      "Requirement already satisfied: six in c:\\users\\aditi.vjain\\anaconda3\\lib\\site-packages (from patsy>=0.5.2->statsmodels<1,>=0.13.2->ydata-profiling->pandas-profiling) (1.16.0)\n",
      "Installing collected packages: llvmlite, dacite, typeguard, pandas, numba, imagehash, wordcloud, visions, phik, ydata-profiling, pandas-profiling\n",
      "  Attempting uninstall: llvmlite\n",
      "    Found existing installation: llvmlite 0.38.0\n"
     ]
    },
    {
     "name": "stderr",
     "output_type": "stream",
     "text": [
      "ERROR: Cannot uninstall 'llvmlite'. It is a distutils installed project and thus we cannot accurately determine which files belong to it which would lead to only a partial uninstall.\n"
     ]
    }
   ],
   "source": [
    "!pip install pandas-profiling"
   ]
  },
  {
   "cell_type": "code",
   "execution_count": 2,
   "id": "f6569a7c",
   "metadata": {},
   "outputs": [],
   "source": [
    "import pandas as pd"
   ]
  },
  {
   "cell_type": "code",
   "execution_count": 4,
   "id": "bfd14824",
   "metadata": {},
   "outputs": [
    {
     "ename": "SyntaxError",
     "evalue": "invalid syntax (3254004437.py, line 1)",
     "output_type": "error",
     "traceback": [
      "\u001b[1;36m  File \u001b[1;32m\"C:\\Users\\Aditi.vjain\\AppData\\Local\\Temp\\ipykernel_24212\\3254004437.py\"\u001b[1;36m, line \u001b[1;32m1\u001b[0m\n\u001b[1;33m    from pandas-profiling import ProfileReport\u001b[0m\n\u001b[1;37m               ^\u001b[0m\n\u001b[1;31mSyntaxError\u001b[0m\u001b[1;31m:\u001b[0m invalid syntax\n"
     ]
    }
   ],
   "source": [
    "from pandas-profiling import ProfileReport"
   ]
  },
  {
   "cell_type": "code",
   "execution_count": null,
   "id": "b4c38ace",
   "metadata": {},
   "outputs": [],
   "source": []
  }
 ],
 "metadata": {
  "kernelspec": {
   "display_name": "Python 3 (ipykernel)",
   "language": "python",
   "name": "python3"
  },
  "language_info": {
   "codemirror_mode": {
    "name": "ipython",
    "version": 3
   },
   "file_extension": ".py",
   "mimetype": "text/x-python",
   "name": "python",
   "nbconvert_exporter": "python",
   "pygments_lexer": "ipython3",
   "version": "3.9.13"
  }
 },
 "nbformat": 4,
 "nbformat_minor": 5
}
